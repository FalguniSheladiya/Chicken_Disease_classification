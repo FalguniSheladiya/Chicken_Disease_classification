{
 "cells": [
  {
   "cell_type": "code",
   "execution_count": 28,
   "metadata": {},
   "outputs": [],
   "source": [
    "d = {\"key\":\"value\", \"key1\":\"value1\"}"
   ]
  },
  {
   "cell_type": "code",
   "execution_count": 29,
   "metadata": {},
   "outputs": [
    {
     "data": {
      "text/plain": [
       "'value'"
      ]
     },
     "execution_count": 29,
     "metadata": {},
     "output_type": "execute_result"
    }
   ],
   "source": [
    "d['key']"
   ]
  },
  {
   "cell_type": "code",
   "execution_count": 13,
   "metadata": {},
   "outputs": [
    {
     "name": "stdout",
     "output_type": "stream",
     "text": [
      "Requirement already satisfied: pip in c:\\users\\admin\\appdata\\local\\programs\\python\\python312\\lib\\site-packages (23.2.1)\n",
      "Collecting pip\n",
      "  Obtaining dependency information for pip from https://files.pythonhosted.org/packages/47/6a/453160888fab7c6a432a6e25f8afe6256d0d9f2cbd25971021da6491d899/pip-23.3.1-py3-none-any.whl.metadata\n",
      "  Downloading pip-23.3.1-py3-none-any.whl.metadata (3.5 kB)\n",
      "Downloading pip-23.3.1-py3-none-any.whl (2.1 MB)\n",
      "   ---------------------------------------- 0.0/2.1 MB ? eta -:--:--\n",
      "   ---------------------------------------- 0.0/2.1 MB ? eta -:--:--\n",
      "   - -------------------------------------- 0.1/2.1 MB 991.0 kB/s eta 0:00:03\n",
      "   -- ------------------------------------- 0.1/2.1 MB 939.4 kB/s eta 0:00:03\n",
      "   -- ------------------------------------- 0.1/2.1 MB 778.5 kB/s eta 0:00:03\n",
      "   --- ------------------------------------ 0.2/2.1 MB 787.7 kB/s eta 0:00:03\n",
      "   ---- ----------------------------------- 0.2/2.1 MB 801.7 kB/s eta 0:00:03\n",
      "   ----- ---------------------------------- 0.3/2.1 MB 886.2 kB/s eta 0:00:03\n",
      "   ------ --------------------------------- 0.3/2.1 MB 873.8 kB/s eta 0:00:03\n",
      "   ------- -------------------------------- 0.4/2.1 MB 933.2 kB/s eta 0:00:02\n",
      "   -------- ------------------------------- 0.5/2.1 MB 972.0 kB/s eta 0:00:02\n",
      "   ---------- ----------------------------- 0.5/2.1 MB 1.0 MB/s eta 0:00:02\n",
      "   ----------- ---------------------------- 0.6/2.1 MB 1.1 MB/s eta 0:00:02\n",
      "   ------------- -------------------------- 0.7/2.1 MB 1.1 MB/s eta 0:00:02\n",
      "   -------------- ------------------------- 0.8/2.1 MB 1.1 MB/s eta 0:00:02\n",
      "   --------------- ------------------------ 0.8/2.1 MB 1.1 MB/s eta 0:00:02\n",
      "   ---------------- ----------------------- 0.9/2.1 MB 1.1 MB/s eta 0:00:02\n",
      "   ----------------- ---------------------- 0.9/2.1 MB 1.1 MB/s eta 0:00:02\n",
      "   ------------------- -------------------- 1.0/2.1 MB 1.2 MB/s eta 0:00:01\n",
      "   --------------------- ------------------ 1.1/2.1 MB 1.2 MB/s eta 0:00:01\n",
      "   ---------------------- ----------------- 1.2/2.1 MB 1.2 MB/s eta 0:00:01\n",
      "   ----------------------- ---------------- 1.2/2.1 MB 1.2 MB/s eta 0:00:01\n",
      "   ------------------------ --------------- 1.3/2.1 MB 1.2 MB/s eta 0:00:01\n",
      "   -------------------------- ------------- 1.4/2.1 MB 1.2 MB/s eta 0:00:01\n",
      "   --------------------------- ------------ 1.5/2.1 MB 1.2 MB/s eta 0:00:01\n",
      "   ---------------------------- ----------- 1.5/2.1 MB 1.2 MB/s eta 0:00:01\n",
      "   ----------------------------- ---------- 1.5/2.1 MB 1.2 MB/s eta 0:00:01\n",
      "   ----------------------------- ---------- 1.6/2.1 MB 1.2 MB/s eta 0:00:01\n",
      "   ------------------------------- -------- 1.6/2.1 MB 1.2 MB/s eta 0:00:01\n",
      "   --------------------------------- ------ 1.7/2.1 MB 1.2 MB/s eta 0:00:01\n",
      "   ---------------------------------- ----- 1.8/2.1 MB 1.2 MB/s eta 0:00:01\n",
      "   ------------------------------------ --- 1.9/2.1 MB 1.2 MB/s eta 0:00:01\n",
      "   ------------------------------------- -- 2.0/2.1 MB 1.2 MB/s eta 0:00:01\n",
      "   ---------------------------------------  2.1/2.1 MB 1.2 MB/s eta 0:00:01\n",
      "   ---------------------------------------- 2.1/2.1 MB 1.2 MB/s eta 0:00:00\n",
      "Installing collected packages: pip\n",
      "  Attempting uninstall: pip\n",
      "    Found existing installation: pip 23.2.1\n",
      "    Uninstalling pip-23.2.1:\n",
      "      Successfully uninstalled pip-23.2.1\n",
      "Successfully installed pip-23.3.1\n"
     ]
    },
    {
     "name": "stderr",
     "output_type": "stream",
     "text": [
      "  WARNING: The scripts pip.exe, pip3.12.exe and pip3.exe are installed in 'c:\\Users\\ADMIN\\AppData\\Local\\Programs\\Python\\Python312\\Scripts' which is not on PATH.\n",
      "  Consider adding this directory to PATH or, if you prefer to suppress this warning, use --no-warn-script-location.\n"
     ]
    }
   ],
   "source": [
    "!python -m pip install --upgrade pip"
   ]
  },
  {
   "cell_type": "code",
   "execution_count": 5,
   "metadata": {},
   "outputs": [
    {
     "name": "stdout",
     "output_type": "stream",
     "text": [
      "Note: you may need to restart the kernel to use updated packages.\n"
     ]
    },
    {
     "name": "stderr",
     "output_type": "stream",
     "text": [
      "ERROR: Could not find a version that satisfies the requirement box (from versions: none)\n",
      "ERROR: No matching distribution found for box\n"
     ]
    }
   ],
   "source": [
    "pip install box"
   ]
  },
  {
   "cell_type": "code",
   "execution_count": 7,
   "metadata": {},
   "outputs": [
    {
     "ename": "ModuleNotFoundError",
     "evalue": "No module named 'box'",
     "output_type": "error",
     "traceback": [
      "\u001b[1;31m---------------------------------------------------------------------------\u001b[0m",
      "\u001b[1;31mModuleNotFoundError\u001b[0m                       Traceback (most recent call last)",
      "\u001b[1;32mc:\\Users\\ADMIN\\Chicken_Disease_classification\\research\\trials.ipynb Cell 5\u001b[0m line \u001b[0;36m1\n\u001b[1;32m----> <a href='vscode-notebook-cell:/c%3A/Users/ADMIN/Chicken_Disease_classification/research/trials.ipynb#W4sZmlsZQ%3D%3D?line=0'>1</a>\u001b[0m \u001b[39mfrom\u001b[39;00m \u001b[39mbox\u001b[39;00m \u001b[39mimport\u001b[39;00m ConfigBox\n",
      "\u001b[1;31mModuleNotFoundError\u001b[0m: No module named 'box'"
     ]
    }
   ],
   "source": [
    "from box import ConfigBox"
   ]
  }
 ],
 "metadata": {
  "kernelspec": {
   "display_name": "Python 3",
   "language": "python",
   "name": "python3"
  },
  "language_info": {
   "codemirror_mode": {
    "name": "ipython",
    "version": 3
   },
   "file_extension": ".py",
   "mimetype": "text/x-python",
   "name": "python",
   "nbconvert_exporter": "python",
   "pygments_lexer": "ipython3",
   "version": "3.12.0"
  }
 },
 "nbformat": 4,
 "nbformat_minor": 2
}
